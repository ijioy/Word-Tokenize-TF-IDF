{
 "cells": [
  {
   "cell_type": "code",
   "execution_count": 7,
   "id": "17eaeee4-f0b7-4fec-bc02-7130d9ca3676",
   "metadata": {},
   "outputs": [
    {
     "data": {
      "text/plain": [
       "['Teknik Informatika merupakan bidang ilmu yang mempelajari bagaimana menggunakan teknologi ,komputer secara optimal guna menangani masalah transformasi atau pengolahan data dengan proses logika.']"
      ]
     },
     "execution_count": 7,
     "metadata": {},
     "output_type": "execute_result"
    }
   ],
   "source": [
    "kalimat = ['Teknik Informatika merupakan bidang ilmu yang mempelajari bagaimana menggunakan teknologi ,'\n",
    "           'komputer secara optimal guna menangani masalah transformasi atau pengolahan data dengan proses logika.']\n",
    "kalimat"
   ]
  },
  {
   "cell_type": "code",
   "execution_count": 8,
   "id": "4fa53ffb-5fe0-41d0-84bf-1f2d2b92ed6c",
   "metadata": {},
   "outputs": [],
   "source": [
    "from nltk.tokenize import word_tokenize"
   ]
  },
  {
   "cell_type": "code",
   "execution_count": 9,
   "id": "63fe503d-b2c7-4629-a8d3-e83015974b26",
   "metadata": {},
   "outputs": [
    {
     "name": "stdout",
     "output_type": "stream",
     "text": [
      "['Teknik', 'Informatika', 'merupakan', 'bidang', 'ilmu', 'yang', 'mempelajari', 'bagaimana', 'menggunakan', 'teknologi', ',', 'komputer', 'secara', 'optimal', 'guna', 'menangani', 'masalah', 'transformasi', 'atau', 'pengolahan', 'data', 'dengan', 'proses', 'logika', '.']\n"
     ]
    }
   ],
   "source": [
    "list_token = []\n",
    "for reviews in kalimat:\n",
    "    word_token = word_tokenize(reviews)\n",
    "    list_token.append(word_token)\n",
    "    print (word_token)"
   ]
  },
  {
   "cell_type": "code",
   "execution_count": 10,
   "id": "868f7a01-066b-4bbb-a24e-a37ba13fcc7e",
   "metadata": {},
   "outputs": [
    {
     "name": "stdout",
     "output_type": "stream",
     "text": [
      "['Teknik', 'Informatika', 'merupakan', 'bidang', 'ilmu', 'mempelajari', 'bagaimana', 'menggunakan', 'teknologi', 'komputer', 'secara', 'optimal', 'guna', 'menangani', 'masalah', 'transformasi', 'pengolahan', 'data', 'dengan', 'proses', 'logika']\n"
     ]
    }
   ],
   "source": [
    "data_stopword = [\"yg\", \"yang\", \"lah\", \"juga\",\"adalah\",\"pada\",\",\",'.','atau']\n",
    "list_sentence = []\n",
    "for reviews in list_token:\n",
    "    data_clean = []\n",
    "    for review in reviews:\n",
    "        if review not in data_stopword:\n",
    "            data_clean.append(review)\n",
    "    print (data_clean)\n",
    "    list_sentence.append(data_clean)"
   ]
  },
  {
   "cell_type": "code",
   "execution_count": 11,
   "id": "77d25ef2-66d5-4acd-9529-4c72b18efec1",
   "metadata": {},
   "outputs": [],
   "source": [
    "from Sastrawi.Stemmer.StemmerFactory import StemmerFactory\n",
    "factory = StemmerFactory()\n",
    "stemmer = factory.create_stemmer()"
   ]
  },
  {
   "cell_type": "code",
   "execution_count": 12,
   "id": "7ffa0369-3ea6-4a08-a79f-a584d7fb3ef3",
   "metadata": {},
   "outputs": [
    {
     "name": "stdout",
     "output_type": "stream",
     "text": [
      "['teknik', 'informatika', 'rupa', 'bidang', 'ilmu', 'ajar', 'bagaimana', 'guna', 'teknologi', 'komputer', 'cara', 'optimal', 'guna', 'tangan', 'masalah', 'transformasi', 'olah', 'data', 'dengan', 'proses', 'logika']\n"
     ]
    }
   ],
   "source": [
    "list_stem = []\n",
    "for reviews in list_token:\n",
    "    data_clean = []\n",
    "    for review in reviews:\n",
    "        if review not in data_stopword:\n",
    "            data_clean.append(stemmer.stem(review))\n",
    "    print (data_clean)\n",
    "    list_stem.append(data_clean)"
   ]
  },
  {
   "cell_type": "code",
   "execution_count": 13,
   "id": "fe6a6b3a-b778-4759-a8fb-e5e24975b6ad",
   "metadata": {},
   "outputs": [
    {
     "name": "stdout",
     "output_type": "stream",
     "text": [
      "20\n"
     ]
    }
   ],
   "source": [
    "from sklearn.feature_extraction.text import CountVectorizer, TfidfTransformer\n",
    "CV = CountVectorizer()\n",
    "term_fit=CV.fit(data_clean)\n",
    "print (len(term_fit.vocabulary_))"
   ]
  },
  {
   "cell_type": "code",
   "execution_count": 14,
   "id": "5081a491-7f94-4e70-b350-2ba9b58a7940",
   "metadata": {},
   "outputs": [
    {
     "name": "stdout",
     "output_type": "stream",
     "text": [
      "{'teknik': 17, 'informatika': 8, 'rupa': 15, 'bidang': 2, 'ilmu': 7, 'ajar': 0, 'bagaimana': 1, 'guna': 6, 'teknologi': 18, 'komputer': 9, 'cara': 3, 'optimal': 13, 'tangan': 16, 'masalah': 11, 'transformasi': 19, 'olah': 12, 'data': 4, 'dengan': 5, 'proses': 14, 'logika': 10}\n"
     ]
    }
   ],
   "source": [
    "print (term_fit.vocabulary_)"
   ]
  },
  {
   "cell_type": "code",
   "execution_count": 15,
   "id": "e2e676e3-85ed-4fb5-83b1-fd0a3b06a659",
   "metadata": {},
   "outputs": [
    {
     "name": "stdout",
     "output_type": "stream",
     "text": [
      "  (0, 1)\t1\n",
      "  (0, 2)\t1\n",
      "  (0, 4)\t1\n",
      "  (0, 5)\t1\n",
      "  (0, 6)\t1\n",
      "  (0, 7)\t1\n",
      "  (0, 8)\t1\n",
      "  (0, 9)\t1\n",
      "  (0, 10)\t1\n",
      "  (0, 11)\t1\n",
      "  (0, 13)\t1\n",
      "  (0, 14)\t1\n",
      "  (0, 17)\t1\n",
      "  (0, 18)\t1\n",
      "  (0, 19)\t1\n",
      "  (0, 19)\t0.2601523136598722\n",
      "  (0, 18)\t0.2601523136598722\n",
      "  (0, 17)\t0.2601523136598722\n",
      "  (0, 14)\t0.2601523136598722\n",
      "  (0, 13)\t0.2601523136598722\n",
      "  (0, 11)\t0.2601523136598722\n",
      "  (0, 10)\t0.2601523136598722\n",
      "  (0, 9)\t0.2601523136598722\n",
      "  (0, 8)\t0.2601523136598722\n",
      "  (0, 7)\t0.2601523136598722\n",
      "  (0, 6)\t0.22910877714268638\n",
      "  (0, 5)\t0.2601523136598722\n",
      "  (0, 4)\t0.2601523136598722\n",
      "  (0, 2)\t0.2601523136598722\n",
      "  (0, 1)\t0.2601523136598722\n"
     ]
    }
   ],
   "source": [
    "term_frekuency = term_fit.transform(kalimat)\n",
    "print (term_frekuency)\n",
    "term = term_fit.transform(data_clean)\n",
    "tfidf_transformer = TfidfTransformer().fit(term) #untuk menampung sumua kata\n",
    "tfidf = tfidf_transformer.transform(term_frekuency) #menampung semua tapi hanya ingiin menampilkan term frekuensi\n",
    "print (tfidf)"
   ]
  },
  {
   "cell_type": "markdown",
   "id": "194982f6-f013-4bd5-aaf2-2ccf9c596d87",
   "metadata": {},
   "source": [
    "*** Soal 2*"
   ]
  },
  {
   "cell_type": "code",
   "execution_count": 17,
   "id": "3f8d4a46-c4af-4f62-8306-b5b710f39b2e",
   "metadata": {},
   "outputs": [
    {
     "data": {
      "text/plain": [
       "['Selama kuliah kamu akan banyak mengkaji pemrograman dan komputasi. Tentunya kamuakan dibekali dengan keterampilan merancang perangkat lunak.']"
      ]
     },
     "execution_count": 17,
     "metadata": {},
     "output_type": "execute_result"
    }
   ],
   "source": [
    "kalimat1 = ['Selama kuliah kamu akan banyak mengkaji pemrograman dan komputasi. Tentunya kamu'\n",
    "           'akan dibekali dengan keterampilan merancang perangkat lunak.']\n",
    "kalimat1"
   ]
  },
  {
   "cell_type": "code",
   "execution_count": 18,
   "id": "6791cb73-7047-4775-a9ef-8d9fce5754c1",
   "metadata": {},
   "outputs": [
    {
     "name": "stdout",
     "output_type": "stream",
     "text": [
      "['Selama', 'kuliah', 'kamu', 'akan', 'banyak', 'mengkaji', 'pemrograman', 'dan', 'komputasi', '.', 'Tentunya', 'kamuakan', 'dibekali', 'dengan', 'keterampilan', 'merancang', 'perangkat', 'lunak', '.']\n"
     ]
    }
   ],
   "source": [
    "from nltk.tokenize import word_tokenize\n",
    "list_token = []\n",
    "for reviews in kalimat1:\n",
    "    word_token = word_tokenize(reviews)\n",
    "    list_token.append(word_token)\n",
    "    print (word_token)"
   ]
  },
  {
   "cell_type": "code",
   "execution_count": 19,
   "id": "e1aa0d3d-a7a7-4a5e-b8f2-8d5c558e30c8",
   "metadata": {},
   "outputs": [
    {
     "name": "stdout",
     "output_type": "stream",
     "text": [
      "['Selama', 'kuliah', 'kamu', 'akan', 'banyak', 'mengkaji', 'pemrograman', 'komputasi', 'Tentunya', 'kamuakan', 'dibekali', 'dengan', 'keterampilan', 'merancang', 'perangkat', 'lunak']\n"
     ]
    }
   ],
   "source": [
    "data_stopword = [\"yg\", \"yang\", \"lah\", \"juga\",\"adalah\",\"pada\",\",\",'.','atau','dan']\n",
    "list_sentence = []\n",
    "for reviews in list_token:\n",
    "    data_clean = []\n",
    "    for review in reviews:\n",
    "        if review not in data_stopword:\n",
    "            data_clean.append(review)\n",
    "    print (data_clean)\n",
    "    list_sentence.append(data_clean)"
   ]
  },
  {
   "cell_type": "code",
   "execution_count": 20,
   "id": "3e404aeb-efe8-4bd2-af65-dfebb984fa29",
   "metadata": {},
   "outputs": [
    {
     "name": "stdout",
     "output_type": "stream",
     "text": [
      "['lama', 'kuliah', 'kamu', 'akan', 'banyak', 'kaji', 'pemrograman', 'komputasi', 'tentu', 'kamuakan', 'bekal', 'dengan', 'terampil', 'rancang', 'perangkat', 'lunak']\n"
     ]
    }
   ],
   "source": [
    "from Sastrawi.Stemmer.StemmerFactory import StemmerFactory\n",
    "factory = StemmerFactory()\n",
    "stemmer = factory.create_stemmer()\n",
    "list_stem = []\n",
    "for reviews in list_token:\n",
    "    data_clean = []\n",
    "    for review in reviews:\n",
    "        if review not in data_stopword:\n",
    "            data_clean.append(stemmer.stem(review))\n",
    "    print (data_clean)\n",
    "    list_stem.append(data_clean)"
   ]
  },
  {
   "cell_type": "code",
   "execution_count": 21,
   "id": "5a28bee5-32d3-4295-8ded-586eb7c0ece3",
   "metadata": {},
   "outputs": [
    {
     "name": "stdout",
     "output_type": "stream",
     "text": [
      "16\n"
     ]
    }
   ],
   "source": [
    "from sklearn.feature_extraction.text import CountVectorizer, TfidfTransformer\n",
    "CV = CountVectorizer()\n",
    "term_fit=CV.fit(data_clean)\n",
    "print (len(term_fit.vocabulary_))"
   ]
  },
  {
   "cell_type": "code",
   "execution_count": 22,
   "id": "30691b70-cc4d-41e6-a5fe-0da4b0c16ebc",
   "metadata": {},
   "outputs": [
    {
     "name": "stdout",
     "output_type": "stream",
     "text": [
      "{'lama': 9, 'kuliah': 8, 'kamu': 5, 'akan': 0, 'banyak': 1, 'kaji': 4, 'pemrograman': 11, 'komputasi': 7, 'tentu': 14, 'kamuakan': 6, 'bekal': 2, 'dengan': 3, 'terampil': 15, 'rancang': 13, 'perangkat': 12, 'lunak': 10}\n"
     ]
    }
   ],
   "source": [
    "print (term_fit.vocabulary_)"
   ]
  },
  {
   "cell_type": "code",
   "execution_count": 24,
   "id": "d241fe6c-a90a-462d-9062-8c77813b01e2",
   "metadata": {},
   "outputs": [
    {
     "name": "stdout",
     "output_type": "stream",
     "text": [
      "  (0, 0)\t1\n",
      "  (0, 1)\t1\n",
      "  (0, 3)\t1\n",
      "  (0, 5)\t1\n",
      "  (0, 6)\t1\n",
      "  (0, 7)\t1\n",
      "  (0, 8)\t1\n",
      "  (0, 10)\t1\n",
      "  (0, 11)\t1\n",
      "  (0, 12)\t1\n",
      "  (0, 12)\t0.31622776601683794\n",
      "  (0, 11)\t0.31622776601683794\n",
      "  (0, 10)\t0.31622776601683794\n",
      "  (0, 8)\t0.31622776601683794\n",
      "  (0, 7)\t0.31622776601683794\n",
      "  (0, 6)\t0.31622776601683794\n",
      "  (0, 5)\t0.31622776601683794\n",
      "  (0, 3)\t0.31622776601683794\n",
      "  (0, 1)\t0.31622776601683794\n",
      "  (0, 0)\t0.31622776601683794\n"
     ]
    }
   ],
   "source": [
    "term_frekuency = term_fit.transform(kalimat1)\n",
    "print (term_frekuency)\n",
    "term = term_fit.transform(data_clean)\n",
    "tfidf_transformer = TfidfTransformer().fit(term) #untuk menampung sumua kata\n",
    "tfidf = tfidf_transformer.transform(term_frekuency) #menampung semua tapi hanya ingiin menampilkan term frekuensi\n",
    "print (tfidf)"
   ]
  },
  {
   "cell_type": "code",
   "execution_count": null,
   "id": "4c6b0691-0485-4aa6-b3c7-625b039e5f2c",
   "metadata": {},
   "outputs": [],
   "source": []
  }
 ],
 "metadata": {
  "kernelspec": {
   "display_name": "Python 3",
   "language": "python",
   "name": "python3"
  },
  "language_info": {
   "codemirror_mode": {
    "name": "ipython",
    "version": 3
   },
   "file_extension": ".py",
   "mimetype": "text/x-python",
   "name": "python",
   "nbconvert_exporter": "python",
   "pygments_lexer": "ipython3",
   "version": "3.8.8"
  }
 },
 "nbformat": 4,
 "nbformat_minor": 5
}
